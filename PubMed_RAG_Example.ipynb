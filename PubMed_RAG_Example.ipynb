{
  "cells": [
    {
      "cell_type": "code",
      "execution_count": null,
      "metadata": {
        "id": "ur8xi4C7S06n"
      },
      "outputs": [],
      "source": [
        "# Copyright 2025 Google LLC\n",
        "#\n",
        "# Licensed under the Apache License, Version 2.0 (the \"License\");\n",
        "# you may not use this file except in compliance with the License.\n",
        "# You may obtain a copy of the License at\n",
        "#\n",
        "#     https://www.apache.org/licenses/LICENSE-2.0\n",
        "#\n",
        "# Unless required by applicable law or agreed to in writing, software\n",
        "# distributed under the License is distributed on an \"AS IS\" BASIS,\n",
        "# WITHOUT WARRANTIES OR CONDITIONS OF ANY KIND, either express or implied.\n",
        "# See the License for the specific language governing permissions and\n",
        "# limitations under the License."
      ]
    },
    {
      "cell_type": "markdown",
      "metadata": {
        "id": "JAPoU8Sm5E6e"
      },
      "source": [
        "# PubMed Medical Literature Analysis\n",
        "\n",
        "<!-- [PLACEHOLDER: Update these links when notebook is finalized] -->\n",
        "<table align=\"left\">\n",
        "  <td style=\"text-align: center\">\n",
        "    <a href=\"https://colab.research.google.com/github/WandLZhang/pubmed-rag/blob/main/PubMed_RAG_Example.ipynb\">\n",
        "      <img width=\"32px\" src=\"https://www.gstatic.com/pantheon/images/bigquery/welcome_page/colab-logo.svg\" alt=\"Google Colaboratory logo\"><br> Run in Colab\n",
        "    </a>\n",
        "  </td>\n",
        "  <td style=\"text-align: center\">\n",
        "    <a href=\"https://console.cloud.google.com/vertex-ai/colab/import/https:%2F%2Fraw.githubusercontent.com%2FWandLZhang%2Fpubmed-rag%2Fmain%2FPubMed_RAG_Example.ipynb\">\n",
        "      <img width=\"32px\" src=\"https://lh3.googleusercontent.com/JmcxdQi-qOpctIvWKgPtrzZdJJK-J3sWE1RsfjZNwshCFgE_9fULcNpuXYTilIR2hjwN\" alt=\"Google Cloud Colab Enterprise logo\"><br> Run in Colab Enterprise\n",
        "    </a>\n",
        "  </td>\n",
        "  <td style=\"text-align: center\">\n",
        "    <a href=\"https://github.com/WandLZhang/pubmed-rag/blob/main/PubMed_RAG_Example.ipynb\">\n",
        "      <img width=\"32px\" src=\"https://www.svgrepo.com/download/217753/github.svg\" alt=\"GitHub logo\"><br> View on GitHub\n",
        "    </a>\n",
        "  </td>\n",
        "  <td style=\"text-align: center\">\n",
        "    <a href=\"https://console.cloud.google.com/vertex-ai/workbench/deploy-notebook?download_url=https://raw.githubusercontent.com/WandLZhang/pubmed-rag/main/PubMed_RAG_Example.ipynb\">\n",
        "      <img src=\"https://www.gstatic.com/images/branding/gcpiconscolors/vertexai/v1/32px.svg\" alt=\"Vertex AI logo\"><br> Open in Vertex AI Workbench\n",
        "    </a>\n",
        "  </td>\n",
        "</table>\n",
        "\n",
        "<div style=\"clear: both;\"></div>\n",
        "\n",
        "<!-- [PLACEHOLDER: Update share links when notebook is finalized] -->\n",
        "<b>Share to:</b>\n",
        "\n",
        "<a href=\"https://www.linkedin.com/sharing/share-offsite/?url=https%3A//github.com/WandLZhang/pubmed-rag/blob/main/PubMed_RAG_Example.ipynb\" target=\"_blank\">\n",
        "  <img width=\"20px\" src=\"https://upload.wikimedia.org/wikipedia/commons/8/81/LinkedIn_icon.svg\" alt=\"LinkedIn logo\">\n",
        "</a>\n",
        "\n",
        "<a href=\"https://bsky.app/intent/compose?text=https%3A//github.com/WandLZhang/pubmed-rag/blob/main/PubMed_RAG_Example.ipynb\" target=\"_blank\">\n",
        "  <img width=\"20px\" src=\"https://upload.wikimedia.org/wikipedia/commons/7/7a/Bluesky_Logo.svg\" alt=\"Bluesky logo\">\n",
        "</a>\n",
        "\n",
        "<a href=\"https://twitter.com/intent/tweet?url=https%3A//github.com/WandLZhang/pubmed-rag/blob/main/PubMed_RAG_Example.ipynb\" target=\"_blank\">\n",
        "  <img width=\"20px\" src=\"https://upload.wikimedia.org/wikipedia/commons/5/5a/X_icon_2.svg\" alt=\"X logo\">\n",
        "</a>\n",
        "\n",
        "<a href=\"https://reddit.com/submit?url=https%3A//github.com/WandLZhang/pubmed-rag/blob/main/PubMed_RAG_Example.ipynb\" target=\"_blank\">\n",
        "  <img width=\"20px\" src=\"https://redditinc.com/hubfs/Reddit%20Inc/Brand/Reddit_Logo.png\" alt=\"Reddit logo\">\n",
        "</a>\n",
        "\n",
        "<a href=\"https://www.facebook.com/sharer/sharer.php?u=https%3A//github.com/WandLZhang/pubmed-rag/blob/main/PubMed_RAG_Example.ipynb\" target=\"_blank\">\n",
        "  <img width=\"20px\" src=\"https://upload.wikimedia.org/wikipedia/commons/5/51/Facebook_f_logo_%282019%29.svg\" alt=\"Facebook logo\">\n",
        "</a>            "
      ]
    },
    {
      "cell_type": "markdown",
      "metadata": {
        "id": "49e1e41cea0d"
      },
      "source": [
        "| Authors |\n",
        "| --- |\n",
        "| [Willis Zhang](https://github.com/WandLZhang) |\n",
        "| [Stone Jiang](https://github.com/siduojiang) |"
      ]
    },
    {
      "cell_type": "markdown",
      "metadata": {
        "id": "tvgnzT1CKxrO"
      },
      "source": [
        "## Overview\n",
        "\n",
        "**Blog Post: Medical Literature Analysis with PubMed, BigQuery, Gemini**\n",
        "\n",
        "<a href=\"[blog-post-url-placeholder]\" target=\"_blank\">\n",
        "  <img src=\"https://storage.googleapis.com/[placeholder-image-path]/medical-literature-blog-header.jpg\" alt=\"Medical Literature Analysis with PubMed and Gemini\" width=\"500\">\n",
        "</a>\n",
        "\n",
        "This notebook demonstrates how to analyze medical cases using PubMed literature with BigQuery vector search and Gemini. It converts the basic user experience from the [Capricorn Medical Research Application](https://capricorn-medical-research.web.app/) into an interactive Colab notebook."
      ]
    },
    {
      "cell_type": "markdown",
      "metadata": {
        "id": "d975e698c9a4"
      },
      "source": [
        "\n",
        "In this tutorial, you learn how to:\n",
        "\n",
        "- Extract medical information (disease diagnosis and actionable events) from case notes\n",
        "- Search PubMed literature using BigQuery vector search\n",
        "- Score and rank articles using customizable criteria\n",
        "- Generate evidence-based treatment recommendations with citations\n",
        "- Create an interactive chat interface for medical discussions\n",
        "\n",
        "![Medical Literature Analysis Architecture](https://github.com/WandLZhang/pubmed-rag/blob/main/visuals/1.png?raw=true)\n",
        "\n",
        "This tutorial uses the following Google Cloud AI services and resources:\n",
        "\n",
        "- **Vertex AI**: Gemini 2.5 Flash for text analysis and generation\n",
        "- **BigQuery**: Vector search on PubMed article embeddings\n",
        "- **Interactive Widgets**: Customizable scoring configuration"
      ]
    },
    {
      "cell_type": "markdown",
      "metadata": {
        "id": "BF1j6f9HApxa"
      },
      "source": [
        "## Before you begin\n",
        "\n",
        "1. [Select or create a Google Cloud project](https://console.cloud.google.com/cloud-resource-manager). When you first create an account, you get a $300 free credit towards your compute/storage costs.\n",
        "\n",
        "After doing so"
      ]
    },
    {
      "cell_type": "code",
      "execution_count": null,
      "metadata": {
        "id": "oM1iC_MfAts1"
      },
      "outputs": [],
      "source": [
        "import os\n",
        "\n",
        "PROJECT_ID = \"[your-project-id]\"  # @param {type: \"string\"}\n",
        "if not PROJECT_ID or PROJECT_ID == \"[your-project-id]\":\n",
        "    PROJECT_ID = str(os.environ.get(\"GOOGLE_CLOUD_PROJECT\"))\n",
        "\n",
        "LOCATION = os.environ.get(\"GOOGLE_CLOUD_REGION\", \"us-central1\")\n",
        "\n",
        "from google import genai\n",
        "\n",
        "client = genai.Client(vertexai=True, project=PROJECT_ID, location=LOCATION)"
      ]
    },
    {
      "cell_type": "markdown",
      "metadata": {},
      "source": [
        "   NOTE: You can change the `LOCATION` variable used by Vertex AI. Learn more about [Vertex AI regions](https://cloud.google.com/vertex-ai/docs/general/locations).\n",
        "\n",
        "2. Enable the [Vertex AI APIs](https://console.cloud.google.com/flows/enableapi?apiid=aiplatform.googleapis.com,discoveryengine.googleapis.com).\n",
        "3. If you are running this notebook locally, you need to install the [Cloud SDK](https://cloud.google.com/sdk).\n",
        "4. Install the following packages required to execute this notebook."
      ]
    },
    {
      "cell_type": "code",
      "execution_count": null,
      "metadata": {
        "id": "2b4ef9b72d43"
      },
      "outputs": [],
      "source": [
        "%pip install --upgrade --quiet google-genai google-cloud-bigquery ipywidgets plotly pandas"
      ]
    },
    {
      "cell_type": "markdown",
      "metadata": {
        "id": "sBCra4QMA2wR"
      },
      "source": [
        "5. If you are running this notebook on Google Colab, you will need to authenticate your environment. To do this, run the new cell below. This step is not required if you are using Vertex AI Workbench."
      ]
    },
    {
      "cell_type": "code",
      "execution_count": null,
      "metadata": {
        "id": "603adbbf0532"
      },
      "outputs": [],
      "source": [
        "import sys\n",
        "\n",
        "if \"google.colab\" in sys.modules:\n",
        "    # Authenticate user to Google Cloud\n",
        "    from google.colab import auth\n",
        "\n",
        "    auth.authenticate_user()"
      ]
    },
    {
      "cell_type": "markdown",
      "metadata": {
        "id": "960505627ddf"
      },
      "source": [
        "### Import libraries"
      ]
    },
    {
      "cell_type": "code",
      "execution_count": null,
      "metadata": {
        "id": "PyQmSRbKA8r-"
      },
      "outputs": [],
      "source": [
        "from IPython.display import Markdown, display, HTML\n",
        "from google.genai.types import (\n",
        "    GenerateContentConfig,\n",
        "    GenerateContentResponse,\n",
        "    Part,\n",
        "    Tool,\n",
        ")\n",
        "\n",
        "# Additional imports for medical analysis\n",
        "from google.cloud import bigquery\n",
        "import ipywidgets as widgets\n",
        "import json\n",
        "from datetime import datetime\n",
        "import math\n",
        "import pandas as pd\n",
        "import plotly.express as px\n",
        "import plotly.graph_objects as go"
      ]
    },
    {
      "cell_type": "markdown",
      "metadata": {
        "id": "4e569c5d4a49"
      },
      "source": [
        "### Helper functions"
      ]
    },
    {
      "cell_type": "code",
      "execution_count": null,
      "metadata": {
        "id": "307f36dbd36c"
      },
      "outputs": [],
      "source": [
        "def print_grounding_data(response: GenerateContentResponse) -> None:\n",
        "    \"\"\"Prints Gemini response with grounding citations in Markdown format.\"\"\"\n",
        "    if not (response.candidates and response.candidates[0].grounding_metadata):\n",
        "        print(\"Response does not contain grounding metadata.\")\n",
        "        display(Markdown(response.text))\n",
        "        return\n",
        "\n",
        "    grounding_metadata = response.candidates[0].grounding_metadata\n",
        "    markdown_parts = []\n",
        "\n",
        "    # Citation indexes are in bytes\n",
        "    ENCODING = \"utf-8\"\n",
        "    text_bytes = response.text.encode(ENCODING)\n",
        "    last_byte_index = 0\n",
        "\n",
        "    for support in grounding_metadata.grounding_supports:\n",
        "        markdown_parts.append(\n",
        "            text_bytes[last_byte_index : support.segment.end_index].decode(ENCODING)\n",
        "        )\n",
        "\n",
        "        # Generate and append citation footnotes (e.g., \"[1][2]\")\n",
        "        footnotes = \"\".join([f\"[{i + 1}]\" for i in support.grounding_chunk_indices])\n",
        "        markdown_parts.append(f\" {footnotes}\")\n",
        "\n",
        "        # Update index for the next segment\n",
        "        last_byte_index = support.segment.end_index\n",
        "\n",
        "    # Append any remaining text after the last citation\n",
        "    if last_byte_index < len(text_bytes):\n",
        "        markdown_parts.append(text_bytes[last_byte_index:].decode(ENCODING))\n",
        "\n",
        "    markdown_parts.append(\"\\n\\n----\\n## Grounding Sources\\n\")\n",
        "\n",
        "    # Build Grounding Sources Section\n",
        "    markdown_parts.append(\"### Grounding Chunks\\n\")\n",
        "    for i, chunk in enumerate(grounding_metadata.grounding_chunks, start=1):\n",
        "        context = chunk.web or chunk.retrieved_context\n",
        "        if not context:\n",
        "            continue\n",
        "\n",
        "        uri = context.uri\n",
        "        title = context.title or \"Source\"\n",
        "\n",
        "        # Convert GCS URIs to public HTTPS URLs\n",
        "        if uri and uri.startswith(\"gs://\"):\n",
        "            uri = uri.replace(\"gs://\", \"https://storage.googleapis.com/\", 1).replace(\n",
        "                \" \", \"%20\"\n",
        "            )\n",
        "        markdown_parts.append(f\"{i}. [{title}]({uri})\\n\")\n",
        "\n",
        "    # Add Search/Retrieval Queries\n",
        "    if grounding_metadata.web_search_queries:\n",
        "        markdown_parts.append(\n",
        "            f\"\\n**Web Search Queries:** {grounding_metadata.web_search_queries}\\n\"\n",
        "        )\n",
        "        if grounding_metadata.search_entry_point:\n",
        "            markdown_parts.append(\n",
        "                f\"\\n**Search Entry Point:**\\n{grounding_metadata.search_entry_point.rendered_content}\\n\"\n",
        "            )\n",
        "    elif grounding_metadata.retrieval_queries:\n",
        "        markdown_parts.append(\n",
        "            f\"\\n**Retrieval Queries:** {grounding_metadata.retrieval_queries}\\n\"\n",
        "        )\n",
        "\n",
        "    display(Markdown(\"\".join(markdown_parts)))"
      ]
    },
    {
      "cell_type": "markdown",
      "metadata": {
        "id": "55cf2dd17690"
      },
      "source": [
        "Initialize the Gemini model from Vertex AI:"
      ]
    },
    {
      "cell_type": "code",
      "execution_count": null,
      "metadata": {
        "id": "652a8969dd5a"
      },
      "outputs": [],
      "source": [
        "MODEL_ID = \"gemini-2.5-flash\" # @param [\"gemini-2.5-flash-lite\",\"gemini-2.5-flash\",\"gemini-2.5-pro\",\"gemini-2.0-flash\"] {\"allow-input\":true, isTemplate: true}"
      ]
    },
    {
      "cell_type": "markdown",
      "metadata": {
        "id": "e336da7161af"
      },
      "source": [
        "## Medical Literature Analysis Pipeline\n",
        "\n",
        "This section implements the complete medical literature analysis workflow, from case notes to treatment recommendations."
      ]
    },
    {
      "cell_type": "markdown",
      "metadata": {
        "id": "6a28ca4abb52"
      },
      "source": [
        "### 1. Initialize BigQuery Client and Dataset Configuration"
      ]
    },
    {
      "cell_type": "code",
      "execution_count": null,
      "metadata": {
        "id": "25955ce5d263"
      },
      "outputs": [],
      "source": [
        "# Initialize BigQuery client\n",
        "bq_client = bigquery.Client(project=PROJECT_ID)\n",
        "\n",
        "# Configure PubMed dataset\n",
        "# [PLACEHOLDER: Update to final public dataset location]\n",
        "PUBMED_DATASET = \"wz-data-catalog-demo.pubmed\"  # Public PubMed embeddings dataset\n",
        "PUBMED_EMBEDDINGS_TABLE = f\"{PUBMED_DATASET}.article_embeddings\"\n",
        "\n",
        "# Journal impact data will be loaded from CSV [PLACEHOLDER]\n",
        "JOURNAL_IMPACT_CSV_URL = \"https://raw.githubusercontent.com/WandLZhang/scimagojr_2024/main/scimagojr_2024.csv\""
      ]
    },
    {
      "cell_type": "markdown",
      "metadata": {
        "id": "5d7cb7cceb99"
      },
      "source": [
        "### 2. Load Journal Impact Data"
      ]
    },
    {
      "cell_type": "code",
      "execution_count": null,
      "metadata": {
        "id": "1d9fb83b0ab9"
      },
      "outputs": [],
      "source": [
        "# Load journal impact data from CSV\n",
        "# [PLACEHOLDER: Update URL when repository is finalized]\n",
        "journal_impact_df = pd.read_csv(JOURNAL_IMPACT_CSV_URL)\n",
        "\n",
        "# Convert to dictionary for faster lookups\n",
        "journal_impact_dict = dict(zip(journal_impact_df['Title'], journal_impact_df['SJR']))\n",
        "print(f\"Loaded {len(journal_impact_dict)} journal impact records\")"
      ]
    },
    {
      "cell_type": "markdown",
      "metadata": {
        "id": "59c98ab0f5fb"
      },
      "source": [
        "### 3. Customizable Scoring System\n",
        "\n",
        "Configure how articles are scored based on various factors. Adjust the sliders to match your research priorities."
      ]
    },
    {
      "cell_type": "code",
      "execution_count": null,
      "metadata": {
        "id": "5ebdda19afad"
      },
      "outputs": [],
      "source": [
        "# Create dynamic scoring configuration interface\n",
        "class DynamicScoringConfig:\n",
        "    def __init__(self):\n",
        "        self.categories = {}\n",
        "        self.widgets_list = []\n",
        "        self.output = widgets.Output()\n",
        "        \n",
        "        # Default categories\n",
        "        self.default_categories = {\n",
        "            'journal_impact': {'desc': 'Journal Impact Score', 'min': 0, 'max': 50, 'default': 25, 'type': 'quality'},\n",
        "            'year_penalty': {'desc': 'Year Penalty (per year)', 'min': -20, 'max': 0, 'default': -5, 'type': 'quality'},\n",
        "            'disease_match': {'desc': 'Disease Match', 'min': 0, 'max': 100, 'default': 50, 'type': 'relevance'},\n",
        "            'pediatric_focus': {'desc': 'Pediatric Focus', 'min': 0, 'max': 50, 'default': 20, 'type': 'relevance'},\n",
        "            'event_match': {'desc': 'Per Event Match', 'min': 0, 'max': 30, 'default': 15, 'type': 'relevance'},\n",
        "            'treatment_shown': {'desc': 'Treatment Efficacy', 'min': 0, 'max': 100, 'default': 50, 'type': 'relevance'},\n",
        "            'clinical_trial': {'desc': 'Clinical Trial', 'min': 0, 'max': 50, 'default': 40, 'type': 'study_type'},\n",
        "            'review_article': {'desc': 'Review Article', 'min': -10, 'max': 10, 'default': -5, 'type': 'study_type'},\n",
        "            'case_report': {'desc': 'Case Report', 'min': 0, 'max': 20, 'default': 5, 'type': 'study_type'},\n",
        "            'novelty': {'desc': 'Novel Findings', 'min': 0, 'max': 30, 'default': 10, 'type': 'quality'}\n",
        "        }\n",
        "        \n",
        "        # Initialize with default categories\n",
        "        for key, config in self.default_categories.items():\n",
        "            self.add_category(key, config['desc'], config['min'], config['max'], config['default'], config['type'])\n",
        "        \n",
        "        # Add category controls\n",
        "        self.category_name = widgets.Text(\n",
        "            description='Category ID:', \n",
        "            placeholder='e.g., my_custom_score',\n",
        "            style={'description_width': '100px'}\n",
        "        )\n",
        "        self.category_desc = widgets.Text(\n",
        "            description='Description:', \n",
        "            placeholder='e.g., My Custom Score',\n",
        "            style={'description_width': '100px'}\n",
        "        )\n",
        "        self.category_min = widgets.IntText(\n",
        "            value=-10, description='Min:', \n",
        "            style={'description_width': '40px'},\n",
        "            layout={'width': '150px'}\n",
        "        )\n",
        "        self.category_max = widgets.IntText(\n",
        "            value=50, description='Max:', \n",
        "            style={'description_width': '40px'},\n",
        "            layout={'width': '150px'}\n",
        "        )\n",
        "        self.category_default = widgets.IntText(\n",
        "            value=10, description='Default:', \n",
        "            style={'description_width': '60px'},\n",
        "            layout={'width': '150px'}\n",
        "        )\n",
        "        self.category_type = widgets.Dropdown(\n",
        "            options=['quality', 'relevance', 'study_type', 'custom'],\n",
        "            value='custom',\n",
        "            description='Type:',\n",
        "            style={'description_width': '60px'}\n",
        "        )\n",
        "        \n",
        "        self.add_button = widgets.Button(\n",
        "            description='Add Category',\n",
        "            button_style='success',\n",
        "            icon='plus'\n",
        "        )\n",
        "        self.add_button.on_click(self._add_category_click)\n",
        "        \n",
        "        # Presets\n",
        "        self.presets = widgets.Dropdown(\n",
        "            options=['Custom', 'Clinical Focus', 'Research Focus', 'Pediatric Focus', 'Recent Evidence'],\n",
        "            value='Custom',\n",
        "            description='Presets:',\n",
        "            style={'description_width': '100px'}\n",
        "        )\n",
        "        self.presets.observe(self.load_preset, names='value')\n",
        "        \n",
        "    def add_category(self, key, description, min_val, max_val, default_val, cat_type='custom'):\n",
        "        \"\"\"Add a scoring category.\"\"\"\n",
        "        slider = widgets.IntSlider(\n",
        "            value=default_val, min=min_val, max=max_val, step=1,\n",
        "            description=description + ':',\n",
        "            style={'description_width': '200px'},\n",
        "            layout={'width': '500px'}\n",
        "        )\n",
        "        \n",
        "        remove_button = widgets.Button(\n",
        "            description='',\n",
        "            button_style='danger',\n",
        "            icon='trash',\n",
        "            layout={'width': '40px'}\n",
        "        )\n",
        "        remove_button.on_click(lambda b: self.remove_category(key))\n",
        "        \n",
        "        self.categories[key] = {\n",
        "            'slider': slider,\n",
        "            'type': cat_type,\n",
        "            'remove_button': remove_button,\n",
        "            'description': description\n",
        "        }\n",
        "        \n",
        "    def remove_category(self, key):\n",
        "        \"\"\"Remove a scoring category.\"\"\"\n",
        "        if key in self.categories:\n",
        "            del self.categories[key]\n",
        "            self._refresh_display()\n",
        "    \n",
        "    def _add_category_click(self, b):\n",
        "        \"\"\"Handle add category button click.\"\"\"\n",
        "        key = self.category_name.value.strip().lower().replace(' ', '_')\n",
        "        if key and key not in self.categories:\n",
        "            self.add_category(\n",
        "                key,\n",
        "                self.category_desc.value or key,\n",
        "                self.category_min.value,\n",
        "                self.category_max.value,\n",
        "                self.category_default.value,\n",
        "                self.category_type.value\n",
        "            )\n",
        "            # Clear inputs\n",
        "            self.category_name.value = ''\n",
        "            self.category_desc.value = ''\n",
        "            self._refresh_display()\n",
        "    \n",
        "    def load_preset(self, change):\n",
        "        \"\"\"Load preset configurations.\"\"\"\n",
        "        preset = change['new']\n",
        "        \n",
        "        if preset == 'Clinical Focus':\n",
        "            for key in ['clinical_trial', 'treatment_shown']:\n",
        "                if key in self.categories:\n",
        "                    self.categories[key]['slider'].value = {'clinical_trial': 50, 'treatment_shown': 80}[key]\n",
        "                    \n",
        "        elif preset == 'Research Focus':\n",
        "            for key, val in {'novelty': 30, 'clinical_trial': 30}.items():\n",
        "                if key in self.categories:\n",
        "                    self.categories[key]['slider'].value = val\n",
        "                    \n",
        "        elif preset == 'Pediatric Focus':\n",
        "            for key, val in {'pediatric_focus': 50, 'disease_match': 70, 'clinical_trial': 40}.items():\n",
        "                if key in self.categories:\n",
        "                    self.categories[key]['slider'].value = val\n",
        "                    \n",
        "        elif preset == 'Recent Evidence':\n",
        "            for key, val in {'year_penalty': -10, 'journal_impact': 35, 'novelty': 20}.items():\n",
        "                if key in self.categories:\n",
        "                    self.categories[key]['slider'].value = val\n",
        "    \n",
        "    def get_config(self):\n",
        "        \"\"\"Return current configuration as dictionary.\"\"\"\n",
        "        config = {}\n",
        "        for key, cat in self.categories.items():\n",
        "            config[key] = cat['slider'].value\n",
        "        return config\n",
        "    \n",
        "    def get_category_types(self):\n",
        "        \"\"\"Return mapping of categories to their types.\"\"\"\n",
        "        return {key: cat['type'] for key, cat in self.categories.items()}\n",
        "    \n",
        "    def _refresh_display(self):\n",
        "        \"\"\"Refresh the display.\"\"\"\n",
        "        self.display()\n",
        "    \n",
        "    def display(self):\n",
        "        \"\"\"Display the configuration interface.\"\"\"\n",
        "        # Group categories by type\n",
        "        grouped = {'quality': [], 'relevance': [], 'study_type': [], 'custom': []}\n",
        "        \n",
        "        for key, cat in self.categories.items():\n",
        "            cat_type = cat['type']\n",
        "            if cat_type in grouped:\n",
        "                row = widgets.HBox([cat['slider'], cat['remove_button']])\n",
        "                grouped[cat_type].append(row)\n",
        "        \n",
        "        # Create tabs\n",
        "        tabs_content = []\n",
        "        tab_names = []\n",
        "        \n",
        "        type_names = {\n",
        "            'quality': 'Quality Factors',\n",
        "            'relevance': 'Relevance Factors', \n",
        "            'study_type': 'Study Types',\n",
        "            'custom': 'Custom Categories'\n",
        "        }\n",
        "        \n",
        "        for cat_type, name in type_names.items():\n",
        "            if grouped[cat_type]:\n",
        "                content = widgets.VBox([\n",
        "                    widgets.HTML(f'<h4>{name}</h4>'),\n",
        "                    *grouped[cat_type]\n",
        "                ])\n",
        "                tabs_content.append(content)\n",
        "                tab_names.append(name.split()[0])\n",
        "        \n",
        "        tabs = widgets.Tab(children=tabs_content)\n",
        "        for i, name in enumerate(tab_names):\n",
        "            tabs.set_title(i, name)\n",
        "        \n",
        "        # Add category section\n",
        "        add_section = widgets.VBox([\n",
        "            widgets.HTML('<h4>Add Custom Category</h4>'),\n",
        "            widgets.HBox([\n",
        "                self.category_name,\n",
        "                self.category_desc\n",
        "            ]),\n",
        "            widgets.HBox([\n",
        "                self.category_min,\n",
        "                self.category_max,\n",
        "                self.category_default,\n",
        "                self.category_type\n",
        "            ]),\n",
        "            self.add_button\n",
        "        ], layout={'border': '1px solid #ddd', 'padding': '10px', 'margin': '10px 0'})\n",
        "        \n",
        "        # Clear output and display\n",
        "        clear_output(wait=True)\n",
        "        display(widgets.VBox([\n",
        "            widgets.HTML('<h3>📊 Dynamic Scoring Configuration</h3>'),\n",
        "            self.presets,\n",
        "            tabs,\n",
        "            add_section\n",
        "        ]))\n",
        "\n",
        "# Import for clear_output\n",
        "from IPython.display import clear_output\n",
        "\n",
        "# Initialize dynamic scoring configuration\n",
        "scoring_config = DynamicScoringConfig()\n",
        "scoring_config.display()"
      ]
    },
    {
      "cell_type": "markdown",
      "metadata": {
        "id": "a29c93ef3f34"
      },
      "source": [
        "### 4. Medical Information Extraction Functions"
      ]
    },
    {
      "cell_type": "code",
      "execution_count": null,
      "metadata": {
        "id": "b2587492ab3f"
      },
      "outputs": [],
      "source": [
        "def extract_medical_info(case_text, info_type=\"both\"):\n",
        "    \"\"\"Extract disease and actionable events from case notes.\"\"\"\n",
        "    \n",
        "    prompts = {\n",
        "        \"disease\": \"\"\"Extract the primary disease diagnosis from these case notes. \n",
        "        Return ONLY the disease name, nothing else. For example: 'KMT2A-rearranged AML'\"\"\",\n",
        "        \n",
        "        \"events\": \"\"\"Extract all actionable medical events from these case notes including:\n",
        "        - Genetic mutations (e.g., NRAS G12D, FLT3-ITD)\n",
        "        - Chromosomal abnormalities (e.g., t(9;11))\n",
        "        - Biomarkers (e.g., CD33+, CD19-)\n",
        "        - Other molecular findings\n",
        "        \n",
        "        Return ONLY a comma-separated list of events, nothing else.\n",
        "        Example: \"NRAS G12D, FLT3-ITD, CD33+, t(9;11)\"\"\"\n",
        "    }\n",
        "    \n",
        "    results = {}\n",
        "    \n",
        "    for key, prompt in prompts.items():\n",
        "        if info_type == \"both\" or info_type == key:\n",
        "            full_prompt = f\"{prompt}\\n\\nCase notes:\\n{case_text}\"\n",
        "            \n",
        "            response = client.models.generate_content(\n",
        "                model=MODEL_ID,\n",
        "                contents=[full_prompt],\n",
        "                config=GenerateContentConfig(\n",
        "                    temperature=0,\n",
        "                    max_output_tokens=200,\n",
        "                )\n",
        "            )\n",
        "            \n",
        "            results[key] = response.text.strip()\n",
        "    \n",
        "    return results"
      ]
    },
    {
      "cell_type": "markdown",
      "metadata": {
        "id": "6708e03a1d7b"
      },
      "source": [
        "### 5. Article Scoring Functions"
      ]
    },
    {
      "cell_type": "code",
      "execution_count": null,
      "metadata": {
        "id": "0a9ce21ca573"
      },
      "outputs": [],
      "source": [
        "def normalize_journal_score(sjr, max_points):\n",
        "    \"\"\"Normalize journal SJR score to specified max points.\"\"\"\n",
        "    if not sjr or sjr <= 0:\n",
        "        return 0\n",
        "    \n",
        "    # Use log scale to handle large range of SJR values\n",
        "    # Typical SJR ranges from 0 to ~100,000\n",
        "    normalized = math.log(sjr + 1) * (max_points / 12)  # log(100000) ≈ 11.5\n",
        "    return min(normalized, max_points)\n",
        "\n",
        "def calculate_article_score(metadata, config, query_disease=None):\n",
        "    \"\"\"Calculate article score based on metadata and user configuration.\"\"\"\n",
        "    score = 0\n",
        "    breakdown = {}\n",
        "    \n",
        "    # Journal impact\n",
        "    if metadata.get('journal_sjr'):\n",
        "        sjr = float(metadata['journal_sjr'])\n",
        "        if sjr > 0:\n",
        "            impact_points = normalize_journal_score(sjr, config['journal_impact_max'])\n",
        "            score += impact_points\n",
        "            breakdown['journal_impact'] = round(impact_points, 2)\n",
        "    \n",
        "    # Year penalty\n",
        "    current_year = datetime.now().year\n",
        "    if metadata.get('year'):\n",
        "        try:\n",
        "            article_year = int(metadata['year'])\n",
        "            year_diff = current_year - article_year\n",
        "            year_points = config['year_penalty'] * year_diff\n",
        "            score += year_points\n",
        "            breakdown['year'] = year_points\n",
        "        except:\n",
        "            pass\n",
        "    \n",
        "    # Disease match\n",
        "    if metadata.get('disease_match'):\n",
        "        score += config['disease_match']\n",
        "        breakdown['disease_match'] = config['disease_match']\n",
        "    \n",
        "    # Pediatric focus\n",
        "    if metadata.get('pediatric_focus'):\n",
        "        score += config['pediatric_focus']\n",
        "        breakdown['pediatric_focus'] = config['pediatric_focus']\n",
        "    \n",
        "    # Actionable events\n",
        "    events = metadata.get('actionable_events', [])\n",
        "    matched_events = sum(1 for event in events if event.get('matches_query', False))\n",
        "    if matched_events > 0:\n",
        "        event_points = matched_events * config['event_match']\n",
        "        score += event_points\n",
        "        breakdown['actionable_events'] = event_points\n",
        "    \n",
        "    # Treatment shown\n",
        "    if metadata.get('treatment_shown'):\n",
        "        score += config['treatment_shown']\n",
        "        breakdown['treatment_shown'] = config['treatment_shown']\n",
        "    \n",
        "    # Paper type\n",
        "    paper_type = metadata.get('paper_type', '').lower()\n",
        "    if 'clinical trial' in paper_type:\n",
        "        score += config['clinical_trial']\n",
        "        breakdown['paper_type'] = config['clinical_trial']\n",
        "    elif 'review' in paper_type:\n",
        "        score += config['review_article']\n",
        "        breakdown['paper_type'] = config['review_article']\n",
        "    \n",
        "    # Other study types\n",
        "    if metadata.get('case_report'):\n",
        "        score += config['case_report']\n",
        "        breakdown['case_report'] = config['case_report']\n",
        "    \n",
        "    if metadata.get('series_of_case_reports'):\n",
        "        score += config['case_series']\n",
        "        breakdown['case_series'] = config['case_series']\n",
        "    \n",
        "    if metadata.get('cell_studies'):\n",
        "        score += config['cell_studies']\n",
        "        breakdown['cell_studies'] = config['cell_studies']\n",
        "    \n",
        "    if metadata.get('mice_studies'):\n",
        "        score += config['animal_studies']\n",
        "        breakdown['animal_studies'] = config['animal_studies']\n",
        "    \n",
        "    # Novelty\n",
        "    if metadata.get('novel_findings'):\n",
        "        score += config['novelty']\n",
        "        breakdown['novelty'] = config['novelty']\n",
        "    \n",
        "    return round(score, 2), breakdown"
      ]
    },
    {
      "cell_type": "markdown",
      "metadata": {
        "id": "77f0800f8762"
      },
      "source": [
        "### 6. BigQuery Vector Search Functions"
      ]
    },
    {
      "cell_type": "code",
      "execution_count": null,
      "metadata": {
        "id": "vector_search_func"
      },
      "outputs": [],
      "source": [
        "def generate_embedding(text):\n",
        "    \"\"\"Generate text embedding using Gemini.\"\"\"\n",
        "    from vertexai.language_models import TextEmbeddingModel\n",
        "    \n",
        "    model = TextEmbeddingModel.from_pretrained(\"text-embedding-005\")\n",
        "    embeddings = model.get_embeddings([text])\n",
        "    return embeddings[0].values\n",
        "\n",
        "def search_pubmed_articles(disease, events_list, top_k=10):\n",
        "    \"\"\"Search PubMed articles using BigQuery vector similarity.\"\"\"\n",
        "    \n",
        "    # Combine disease and events for search query\n",
        "    query_text = f\"{disease} {' '.join(events_list)}\"\n",
        "    query_embedding = generate_embedding(query_text)\n",
        "    \n",
        "    # Format embedding for BigQuery\n",
        "    embedding_str = \"[\" + \",\".join(str(x) for x in query_embedding) + \"]\"\n",
        "    \n",
        "    sql = f\"\"\"\n",
        "    WITH query_embedding AS (\n",
        "        SELECT {embedding_str} AS embedding\n",
        "    )\n",
        "    SELECT \n",
        "        pmid,\n",
        "        title,\n",
        "        abstract,\n",
        "        authors,\n",
        "        journal,\n",
        "        year,\n",
        "        keywords,\n",
        "        1 - COSINE_DISTANCE(embedding, query.embedding) AS similarity_score\n",
        "    FROM \n",
        "        `{PUBMED_EMBEDDINGS_TABLE}`,\n",
        "        query_embedding query\n",
        "    ORDER BY \n",
        "        similarity_score DESC\n",
        "    LIMIT {top_k}\n",
        "    \"\"\"\n",
        "    \n",
        "    # Execute query\n",
        "    results = bq_client.query(sql).to_dataframe()\n",
        "    \n",
        "    # Add journal impact scores\n",
        "    results['journal_sjr'] = results['journal'].map(journal_impact_dict).fillna(0)\n",
        "    \n",
        "    return results"
      ]
    },
    {
      "cell_type": "markdown",
      "metadata": {
        "id": "article_analysis"
      },
      "source": [
        "### 7. Article Analysis with Custom Categories"
      ]
    },
    {
      "cell_type": "code",
      "execution_count": null,
      "metadata": {
        "id": "analyze_articles"
      },
      "outputs": [],
      "source": [
        "def analyze_article_batch(articles_df, disease, events_list, scoring_config):\n",
        "    \"\"\"Analyze a batch of articles using Gemini.\"\"\"\n",
        "    \n",
        "    # Get custom categories from scoring config\n",
        "    custom_categories = [key for key, cat in scoring_config.categories.items() \n",
        "                        if key not in scoring_config.default_categories]\n",
        "    \n",
        "    # Build analysis prompt with custom categories\n",
        "    custom_cat_prompts = \"\"\n",
        "    if custom_categories:\n",
        "        custom_cat_prompts = \"\\nCUSTOM SCORING CATEGORIES:\\n\"\n",
        "        for cat_key in custom_categories:\n",
        "            cat_info = scoring_config.categories[cat_key]\n",
        "            custom_cat_prompts += f\"- {cat_key}: {cat_info['description']} (score true/false)\\n\"\n",
        "    \n",
        "    prompt = f\"\"\"Analyze these medical research articles for relevance to:\n",
        "    Disease: {disease}\n",
        "    Actionable Events: {', '.join(events_list)}\n",
        "    \n",
        "    For each article, extract:\n",
        "    1. disease_match: Does the article discuss {disease}? (true/false)\n",
        "    2. pediatric_focus: Is this about pediatric patients? (true/false)\n",
        "    3. actionable_events: List which of these events are mentioned: {events_list}\n",
        "    4. treatment_shown: Does it show treatment efficacy? (true/false)\n",
        "    5. paper_type: Type of study (Clinical Trial, Review, Case Report, etc.)\n",
        "    6. case_report: Is this a case report? (true/false)\n",
        "    7. series_of_case_reports: Is this a case series? (true/false)\n",
        "    8. cell_studies: Does it include cell/in-vitro studies? (true/false)\n",
        "    9. mice_studies: Does it include animal/mouse studies? (true/false)\n",
        "    10. novel_findings: Does it present novel findings? (true/false)\n",
        "    11. key_findings: Brief summary of main findings (1-2 sentences)\n",
        "    {custom_cat_prompts}\n",
        "    \n",
        "    Return as JSON array with one object per article.\n",
        "    \n",
        "    Articles:\n",
        "    \"\"\"\n",
        "    \n",
        "    # Format articles for analysis\n",
        "    articles_text = \"\"\n",
        "    for _, article in articles_df.iterrows():\n",
        "        articles_text += f\"\"\"\\n---\\nPMID: {article['pmid']}\n",
        "Title: {article['title']}\n",
        "Abstract: {article['abstract'][:1000]}...\n",
        "Journal: {article['journal']}\n",
        "Year: {article['year']}\\n\"\"\"\n",
        "    \n",
        "    response = client.models.generate_content(\n",
        "        model=MODEL_ID,\n",
        "        contents=[prompt + articles_text],\n",
        "        config=GenerateContentConfig(\n",
        "            temperature=0,\n",
        "            response_mime_type=\"application/json\",\n",
        "        )\n",
        "    )\n",
        "    \n",
        "    try:\n",
        "        return json.loads(response.text)\n",
        "    except:\n",
        "        print(\"Failed to parse response:\", response.text)\n",
        "        return []"
      ]
    },
    {
      "cell_type": "markdown",
      "metadata": {
        "id": "1b308548c68b"
      },
      "source": [
        "### 8. Complete Medical Analysis Pipeline\n",
        "\n",
        "Now let's put it all together to analyze medical cases."
      ]
    },
    {
      "cell_type": "code",
      "execution_count": null,
      "metadata": {
        "id": "complete_pipeline"
      },
      "outputs": [],
      "source": [
        "def process_medical_case(case_text, num_articles=10):\n",
        "    \"\"\"Complete pipeline to process medical case notes.\"\"\"\n",
        "    \n",
        "    print(\"🔬 Extracting medical information...\")\n",
        "    # Extract disease and events\n",
        "    medical_info = extract_medical_info(case_text)\n",
        "    disease = medical_info.get('disease', '')\n",
        "    events_str = medical_info.get('events', '')\n",
        "    events_list = [e.strip() for e in events_str.split(',') if e.strip()]\n",
        "    \n",
        "    print(f\"\\n📋 Disease: {disease}\")\n",
        "    print(f\"🧬 Actionable Events: {', '.join(events_list)}\")\n",
        "    \n",
        "    print(f\"\\n🔍 Searching PubMed for relevant articles...\")\n",
        "    # Search for articles\n",
        "    articles_df = search_pubmed_articles(disease, events_list, top_k=num_articles)\n",
        "    print(f\"Found {len(articles_df)} articles\")\n",
        "    \n",
        "    print(\"\\n📊 Analyzing articles...\")\n",
        "    # Analyze articles in batches\n",
        "    batch_size = 5\n",
        "    all_analyses = []\n",
        "    \n",
        "    for i in range(0, len(articles_df), batch_size):\n",
        "        batch_df = articles_df.iloc[i:i+batch_size]\n",
        "        batch_analysis = analyze_article_batch(batch_df, disease, events_list, scoring_config)\n",
        "        all_analyses.extend(batch_analysis)\n",
        "    \n",
        "    # Merge analysis with article data\n",
        "    for idx, analysis in enumerate(all_analyses):\n",
        "        if idx < len(articles_df):\n",
        "            for key, value in analysis.items():\n",
        "                if key == 'actionable_events':\n",
        "                    # Mark which events match the query\n",
        "                    matched_events = []\n",
        "                    for event in value:\n",
        "                        matched = any(qe.lower() in event.lower() for qe in events_list)\n",
        "                        matched_events.append({\n",
        "                            'event': event,\n",
        "                            'matches_query': matched\n",
        "                        })\n",
        "                    articles_df.loc[articles_df.index[idx], key] = matched_events\n",
        "                else:\n",
        "                    articles_df.loc[articles_df.index[idx], key] = value\n",
        "    \n",
        "    # Calculate scores\n",
        "    config = scoring_config.get_config()\n",
        "    scores = []\n",
        "    breakdowns = []\n",
        "    \n",
        "    for _, article in articles_df.iterrows():\n",
        "        metadata = article.to_dict()\n",
        "        score, breakdown = calculate_article_score(metadata, config, disease)\n",
        "        scores.append(score)\n",
        "        breakdowns.append(breakdown)\n",
        "    \n",
        "    articles_df['score'] = scores\n",
        "    articles_df['score_breakdown'] = breakdowns\n",
        "    \n",
        "    # Sort by score\n",
        "    articles_df = articles_df.sort_values('score', ascending=False)\n",
        "    \n",
        "    return {\n",
        "        'disease': disease,\n",
        "        'events': events_list,\n",
        "        'articles': articles_df,\n",
        "        'case_text': case_text\n",
        "    }"
      ]
    },
    {
      "cell_type": "markdown",
      "metadata": {
        "id": "fcd767476241"
      },
      "source": [
        "### 9. Results Visualization Functions"
      ]
    },
    {
      "cell_type": "code",
      "execution_count": null,
      "metadata": {
        "id": "ccc156676e0a"
      },
      "outputs": [],
      "source": [
        "def visualize_results(results):\n",
        "    \"\"\"Create visualizations for the analysis results.\"\"\"\n",
        "    articles_df = results['articles']\n",
        "    \n",
        "    # Score distribution chart\n",
        "    fig_scores = px.bar(\n",
        "        articles_df.head(10),\n",
        "        x='pmid',\n",
        "        y='score',\n",
        "        title='Top 10 Articles by Score',\n",
        "        labels={'pmid': 'PMID', 'score': 'Score'},\n",
        "        color='score',\n",
        "        color_continuous_scale='viridis'\n",
        "    )\n",
        "    fig_scores.update_layout(xaxis_tickangle=-45)\n",
        "    fig_scores.show()\n",
        "    \n",
        "    # Score breakdown for top article\n",
        "    if len(articles_df) > 0:\n",
        "        top_article = articles_df.iloc[0]\n",
        "        breakdown = top_article['score_breakdown']\n",
        "        \n",
        "        fig_breakdown = go.Figure(data=[\n",
        "            go.Bar(\n",
        "                x=list(breakdown.keys()),\n",
        "                y=list(breakdown.values()),\n",
        "                marker_color=['green' if v > 0 else 'red' for v in breakdown.values()]\n",
        "            )\n",
        "        ])\n",
        "        fig_breakdown.update_layout(\n",
        "            title=f\"Score Breakdown for Top Article (PMID: {top_article['pmid']})\",\n",
        "            xaxis_title=\"Scoring Factor\",\n",
        "            yaxis_title=\"Points\"\n",
        "        )\n",
        "        fig_breakdown.show()\n",
        "\n",
        "def display_top_articles(results, n=5):\n",
        "    \"\"\"Display detailed information about top articles.\"\"\"\n",
        "    articles_df = results['articles']\n",
        "    \n",
        "    for idx, (_, article) in enumerate(articles_df.head(n).iterrows()):\n",
        "        display(HTML(f\"\"\"\n",
        "        <div style=\"border: 2px solid #ddd; padding: 15px; margin: 10px 0; border-radius: 5px;\">\n",
        "            <h3>#{idx + 1} - Score: {article['score']:.1f}</h3>\n",
        "            <p><strong>Title:</strong> {article['title']}</p>\n",
        "            <p><strong>PMID:</strong> <a href=\"https://pubmed.ncbi.nlm.nih.gov/{article['pmid']}\" target=\"_blank\">{article['pmid']}</a></p>\n",
        "            <p><strong>Journal:</strong> {article['journal']} ({article['year']})</p>\n",
        "            <p><strong>Key Findings:</strong> {article.get('key_findings', 'N/A')}</p>\n",
        "            <details>\n",
        "                <summary>Score Breakdown</summary>\n",
        "                <ul>\n",
        "                    {''.join([f\"<li>{k}: {v}</li>\" for k, v in article['score_breakdown'].items()])}\n",
        "                </ul>\n",
        "            </details>\n",
        "        </div>\n",
        "        \"\"\"))"
      ]
    },
    {
      "cell_type": "markdown",
      "metadata": {
        "id": "299818ae71e9"
      },
      "source": [
        "### 10. Treatment Recommendation Functions"
      ]
    },
    {
      "cell_type": "code",
      "execution_count": null,
      "metadata": {
        "id": "073f2ec42ff6"
      },
      "outputs": [],
      "source": [
        "def generate_treatment_recommendations(results, n_articles=5):\n",
        "    \"\"\"Generate treatment recommendations based on top articles.\"\"\"\n",
        "    \n",
        "    top_articles = results['articles'].head(n_articles)\n",
        "    \n",
        "    # Build context from top articles\n",
        "    articles_context = \"\"\n",
        "    for _, article in top_articles.iterrows():\n",
        "        articles_context += f\"\"\"\n",
        "PMID: {article['pmid']}\n",
        "Title: {article['title']}\n",
        "Key Findings: {article.get('key_findings', 'N/A')}\n",
        "Score: {article['score']}\n",
        "---\n",
        "\"\"\"\n",
        "    \n",
        "    prompt = f\"\"\"Based on the following PubMed research articles about {results['disease']} \n",
        "with actionable events {', '.join(results['events'])}, provide evidence-based treatment recommendations.\n",
        "\n",
        "Case Summary:\n",
        "{results['case_text'][:500]}...\n",
        "\n",
        "Top Research Articles:\n",
        "{articles_context}\n",
        "\n",
        "Please provide:\n",
        "1. Primary treatment recommendations with specific drug names/protocols\n",
        "2. Alternative treatment options\n",
        "3. Monitoring recommendations\n",
        "4. Key clinical considerations\n",
        "\n",
        "Cite specific PMIDs to support each recommendation.\n",
        "\"\"\"\n",
        "    \n",
        "    response = client.models.generate_content(\n",
        "        model=MODEL_ID,\n",
        "        contents=[prompt],\n",
        "        config=GenerateContentConfig(\n",
        "            temperature=0.1,\n",
        "            max_output_tokens=2048,\n",
        "        )\n",
        "    )\n",
        "    \n",
        "    return response.text"
      ]
    },
    {
      "cell_type": "markdown",
      "metadata": {
        "id": "54562717e2a4"
      },
      "source": [
        "### 11. Interactive Medical Consultation Chat"
      ]
    },
    {
      "cell_type": "code",
      "execution_count": null,
      "metadata": {
        "id": "490cf1ed3399"
      },
      "outputs": [],
      "source": [
        "class MedicalConsultationChat:\n",
        "    \"\"\"Interactive chat for medical consultation based on analysis results.\"\"\"\n",
        "    \n",
        "    def __init__(self, results):\n",
        "        self.results = results\n",
        "        self.chat_history = []\n",
        "        self.context = self._build_context()\n",
        "        \n",
        "    def _build_context(self):\n",
        "        \"\"\"Build context from analysis results.\"\"\"\n",
        "        top_articles = self.results['articles'].head(5)\n",
        "        \n",
        "        context = f\"\"\"Medical Case Context:\n",
        "Disease: {self.results['disease']}\n",
        "Actionable Events: {', '.join(self.results['events'])}\n",
        "\n",
        "Top Research Articles:\n",
        "\"\"\"\n",
        "        \n",
        "        for _, article in top_articles.iterrows():\n",
        "            context += f\"\"\"\n",
        "- PMID {article['pmid']}: {article['title']}\n",
        "  Key findings: {article.get('key_findings', 'N/A')}\n",
        "\"\"\"\n",
        "        \n",
        "        return context\n",
        "    \n",
        "    def ask(self, question):\n",
        "        \"\"\"Ask a question about the medical case.\"\"\"\n",
        "        \n",
        "        # Build conversation history\n",
        "        history_str = \"\"\n",
        "        for q, a in self.chat_history[-5:]:  # Keep last 5 exchanges\n",
        "            history_str += f\"\\nUser: {q}\\nAssistant: {a}\\n\"\n",
        "        \n",
        "        prompt = f\"\"\"{self.context}\n",
        "\n",
        "Previous conversation:\n",
        "{history_str}\n",
        "\n",
        "Current question: {question}\n",
        "\n",
        "Please provide a detailed, evidence-based response. Cite specific PMIDs when referencing research.\n",
        "\"\"\"\n",
        "        \n",
        "        response = client.models.generate_content(\n",
        "            model=MODEL_ID,\n",
        "            contents=[prompt],\n",
        "            config=GenerateContentConfig(\n",
        "                temperature=0.3,\n",
        "                max_output_tokens=1024,\n",
        "            )\n",
        "        )\n",
        "        \n",
        "        answer = response.text\n",
        "        self.chat_history.append((question, answer))\n",
        "        \n",
        "        return answer\n",
        "    \n",
        "    def display_chat_interface(self):\n",
        "        \"\"\"Display interactive chat interface.\"\"\"\n",
        "        \n",
        "        output = widgets.Output()\n",
        "        question_input = widgets.Textarea(\n",
        "            placeholder='Ask a question about the medical case...',\n",
        "            layout={'width': '100%', 'height': '80px'}\n",
        "        )\n",
        "        submit_button = widgets.Button(\n",
        "            description='Ask',\n",
        "            button_style='primary',\n",
        "            icon='paper-plane'\n",
        "        )\n",
        "        \n",
        "        def on_submit(b):\n",
        "            question = question_input.value.strip()\n",
        "            if question:\n",
        "                with output:\n",
        "                    display(HTML(f'<div style=\"background-color: #f0f0f0; padding: 10px; margin: 5px 0; border-radius: 5px;\"><b>You:</b> {question}</div>'))\n",
        "                    \n",
        "                    # Get response\n",
        "                    answer = self.ask(question)\n",
        "                    \n",
        "                    display(HTML(f'<div style=\"background-color: #e3f2fd; padding: 10px; margin: 5px 0; border-radius: 5px;\"><b>Medical Consultant:</b><br>{answer.replace(chr(10), \"<br>\")}</div>'))\n",
        "                    \n",
        "                question_input.value = ''\n",
        "        \n",
        "        submit_button.on_click(on_submit)\n",
        "        \n",
        "        # Display interface\n",
        "        display(widgets.VBox([\n",
        "            widgets.HTML('<h3>💬 Medical Consultation Chat</h3>'),\n",
        "            widgets.HTML(f'<p>Disease: <b>{self.results[\"disease\"]}</b></p>'),\n",
        "            output,\n",
        "            widgets.HBox([question_input, submit_button])\n",
        "        ]))"
      ]
    },
    {
      "cell_type": "markdown",
      "metadata": {
        "id": "b59783e4f1ce"
      },
      "source": [
        "## Complete Example: Analyzing a Medical Case\n",
        "\n",
        "Let's analyze a sample pediatric leukemia case through the complete pipeline."
      ]
    },
    {
      "cell_type": "code",
      "execution_count": null,
      "metadata": {
        "id": "58edb2bd860f"
      },
      "outputs": [],
      "source": [
        "# Sample case notes\n",
        "SAMPLE_CASE = \"\"\"\n",
        "A 4-year-old male presents with a 3-week history of progressive fatigue, pallor, and easy bruising. \n",
        "Physical examination reveals hepatosplenomegaly and scattered petechiae. \n",
        "\n",
        "Laboratory findings:\n",
        "- WBC: 45,000/μL with 80% blasts\n",
        "- Hemoglobin: 7.2 g/dL\n",
        "- Platelets: 32,000/μL\n",
        "\n",
        "Flow cytometry: CD33+, CD13+, CD117+, CD34+, HLA-DR+, CD19-, CD3-\n",
        "\n",
        "Cytogenetics: 46,XY,t(9;11)(p21.3;q23.3)\n",
        "Molecular: KMT2A-MLLT3 fusion detected, FLT3-ITD positive, NRAS G12D mutation\n",
        "\n",
        "Diagnosis: KMT2A-rearranged acute myeloid leukemia (AML)\n",
        "\"\"\"\n",
        "\n",
        "print(\"📋 Sample Case Notes:\")\n",
        "print(SAMPLE_CASE)"
      ]
    },
    {
      "cell_type": "markdown",
      "metadata": {
        "id": "87be7f661f14"
      },
      "source": [
        "### Step 1: Run the Analysis Pipeline"
      ]
    },
    {
      "cell_type": "code",
      "execution_count": null,
      "metadata": {
        "id": "8fdad0c3f1f3"
      },
      "outputs": [],
      "source": [
        "# Process the case\n",
        "results = process_medical_case(SAMPLE_CASE, num_articles=10)"
      ]
    },
    {
      "cell_type": "markdown",
      "metadata": {
        "id": "step2_viz"
      },
      "source": [
        "### Step 2: Visualize Results"
      ]
    },
    {
      "cell_type": "code",
      "execution_count": null,
      "metadata": {
        "id": "1a824202a8f0"
      },
      "outputs": [],
      "source": [
        "# Visualize the results\n",
        "visualize_results(results)\n",
        "\n",
        "# Display top articles\n",
        "display_top_articles(results, n=5)"
      ]
    },
    {
      "cell_type": "markdown",
      "metadata": {
        "id": "step3_treatment"
      },
      "source": [
        "### Step 3: Generate Treatment Recommendations"
      ]
    },
    {
      "cell_type": "code",
      "execution_count": null,
      "metadata": {
        "id": "treatment_recs"
      },
      "outputs": [],
      "source": [
        "# Generate treatment recommendations\n",
        "recommendations = generate_treatment_recommendations(results)\n",
        "\n",
        "display(HTML('<h3>🏥 Treatment Recommendations</h3>'))\n",
        "display(Markdown(recommendations))"
      ]
    },
    {
      "cell_type": "markdown",
      "metadata": {
        "id": "step4_chat"
      },
      "source": [
        "### Step 4: Interactive Medical Consultation"
      ]
    },
    {
      "cell_type": "code",
      "execution_count": null,
      "metadata": {
        "id": "med_chat"
      },
      "outputs": [],
      "source": [
        "# Create interactive chat\n",
        "med_chat = MedicalConsultationChat(results)\n",
        "med_chat.display_chat_interface()\n",
        "\n",
        "# Example questions to ask:\n",
        "# - \"What is the prognosis for this specific KMT2A rearrangement?\"\n",
        "# - \"Are there any ongoing clinical trials for FLT3-ITD positive pediatric AML?\"\n",
        "# - \"What are the key monitoring parameters during treatment?\"\n",
        "# - \"How does the NRAS mutation affect treatment selection?\""
      ]
    },
    {
      "cell_type": "markdown",
      "metadata": {
        "id": "TpV-iwP9qw9c"
      },
      "source": [
        "## Cleaning up\n",
        "\n",
        "To avoid incurring charges to your Google Cloud account for the resources used in this notebook, follow these steps:\n",
        "\n",
        "1. To avoid unnecessary Google Cloud charges, use the [Google Cloud console](https://console.cloud.google.com/) to delete your project if you do not need it. Learn more in the Google Cloud documentation for [managing and deleting your project](https://cloud.google.com/resource-manager/docs/creating-managing-projects).\n",
        "2. Disable the [Vertex AI API](https://console.cloud.google.com/apis/api/aiplatform.googleapis.com) in the Google Cloud Console."
      ]
    }
  ],
  "metadata": {
    "colab": {
      "name": "intro-grounding-gemini.ipynb",
      "provenance": [],
      "toc_visible": true
    },
    "kernelspec": {
      "display_name": "Python 3",
      "name": "python3"
    }
  },
  "nbformat": 4,
  "nbformat_minor": 0
}
